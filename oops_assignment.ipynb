{
  "nbformat": 4,
  "nbformat_minor": 0,
  "metadata": {
    "colab": {
      "provenance": []
    },
    "kernelspec": {
      "name": "python3",
      "display_name": "Python 3"
    },
    "language_info": {
      "name": "python"
    }
  },
  "cells": [
    {
      "cell_type": "markdown",
      "source": [
        "OOPS ASSIGNMENT\n"
      ],
      "metadata": {
        "id": "1dP-8VoWVHOi"
      }
    },
    {
      "cell_type": "markdown",
      "source": [
        "Q1.What is Object-Oriented Programming (OOP)?\n",
        "\n",
        "ANS:   Object-Oriented Programming (OOP) is a programming paradigm that is based on the concept of objects. Objects are instances of classes that contain both data (attributes) and methods (functions) that operate on the data."
      ],
      "metadata": {
        "id": "8n1ME2CdVJQb"
      }
    },
    {
      "cell_type": "markdown",
      "source": [
        "Q2.   What is a class in OOP?\n",
        "\n",
        "ANS:    A class in Object-Oriented Programming (OOP) is a blueprint or template for creating objects. It defines attributes (data/variables) and methods (functions) that describe the behavior of the objects.\n",
        "\n"
      ],
      "metadata": {
        "id": "X-siQh6MWaEa"
      }
    },
    {
      "cell_type": "markdown",
      "source": [
        "Q3.   What is an object in OOP?\n",
        "\n",
        "ANS:   An object in Object-Oriented Programming (OOP) is an instance of a class. It is a real-world entity that has state (attributes/variables) and behavior (methods/functions)."
      ],
      "metadata": {
        "id": "hn5H9ULVWzgE"
      }
    },
    {
      "cell_type": "markdown",
      "source": [
        "Q4.   What is the difference between abstraction and encapsulation?\n",
        "\n",
        "ANS:   Abstraction means hiding implementation details and exposing only the required functionalities whereas\n",
        "Encapsulation means restricting direct access to data and allowing access through controlled methods."
      ],
      "metadata": {
        "id": "PX21gflpVNqa"
      }
    },
    {
      "cell_type": "markdown",
      "source": [
        "Q5. What are dunder methods in Python?\n",
        "\n",
        "ANS:   Dunder methods (short for Double Underscore Methods) are special methods in Python that start and end with double underscores (__method__). They are also called \"magic methods\" because they define the behavior of objects in special situations, such as initialization, string representation, arithmetic operations, and comparisons."
      ],
      "metadata": {
        "id": "4xqStecbXZUm"
      }
    },
    {
      "cell_type": "markdown",
      "source": [
        "Q6. Explain the concept of inheritance in OOPs?\n",
        "\n",
        "IANS: nheritance is one of the core principles of Object-Oriented Programming (OOP) that allows a child class to acquire the properties and behavior (methods) of a parent class. It helps in code reusability, extensibility, and hierarchical classification."
      ],
      "metadata": {
        "id": "OFuhZ-zmbM6Z"
      }
    },
    {
      "cell_type": "markdown",
      "source": [
        "Q7.   What is polymorphism in OOP?\n",
        "\n",
        "ANS:  Polymorphism is one of the core concepts in Object-Oriented Programming (OOP) that allows the same interface (method or operator) to be used for different data types or classes. It enables objects of different classes to be treated as objects of a common superclass, making code more flexible and reusable."
      ],
      "metadata": {
        "id": "kKBUSr94bVhN"
      }
    },
    {
      "cell_type": "markdown",
      "source": [
        "Q8.  How is encapsulation achieved in Python?\n",
        "\n",
        "ANS: In Python, encapsulation is implemented using access modifiers:\n",
        "\n",
        "Public Members (variable or method)\n",
        "\n",
        "Accessible from anywhere in the program.\n",
        "Protected Members (_variable or _method)\n",
        "\n",
        "Indicated by a single underscore (_).\n",
        "Should be treated as \"semi-private\" and accessed only within the class or subclasses.\n",
        "Private Members (__variable or __method)\n",
        "\n",
        "Indicated by double underscore (__).\n",
        "Cannot be accessed directly outside the class due to name mangling."
      ],
      "metadata": {
        "id": "DStjo2eYb4n7"
      }
    },
    {
      "cell_type": "markdown",
      "source": [
        "Q9. What is a constructor in Python?\n",
        "\n",
        "ANS:   A constructor in Python is a special method used to initialize objects when a class is instantiated. In Python, the constructor method is defined using __init__(). It allows automatic assignment of values to object attributes during object creation.\n",
        "\n"
      ],
      "metadata": {
        "id": "Sol-Byg-cXsY"
      }
    },
    {
      "cell_type": "markdown",
      "source": [
        "Q10.What are class and static methods in Python?\n",
        "\n",
        "ANS:  In Python, class methods and static methods are used to define behaviors that are not tied to an instance of a class but to the class itself. They allow for better organization and control of data in Object-Oriented Programming (OOP).\n"
      ],
      "metadata": {
        "id": "Ow1E-lYvdeIs"
      }
    },
    {
      "cell_type": "markdown",
      "source": [
        "Q11.   What is method overloading in Python?\n",
        "\n",
        "ANS:  Method Overloading is a concept in Object-Oriented Programming where multiple methods in a class have the same name but different parameters ,Different number or types of arguments."
      ],
      "metadata": {
        "id": "rgWW975BebLf"
      }
    },
    {
      "cell_type": "markdown",
      "source": [
        "Q12.   What is method overriding in OOP?\n",
        "\n",
        "ANS:  Method Overriding is an OOP feature that allows a child class (subclass) to provide a specific implementation of a method that is already defined in its parent class (superclass)."
      ],
      "metadata": {
        "id": "hzMEictzeyCv"
      }
    },
    {
      "cell_type": "markdown",
      "source": [
        "Q13.   What is a property decorator in Python?\n",
        "\n",
        "ANS:  A property decorator in Python is a built-in decorator used to define getter, setter, and deleter methods for class attributes in an elegant and Pythonic way. It allows you to control access to class attributes while maintaining a clean syntax.\n",
        "\n",
        "@property Decorator\n",
        "\n",
        "The @property decorator is used to define a getter method.\n",
        "\n",
        "The @<property>.setter decorator is used to define a setter method.\n",
        "\n",
        "The @<property>.deleter decorator is used to define a deleter method."
      ],
      "metadata": {
        "id": "xJEMF3QefTy1"
      }
    },
    {
      "cell_type": "markdown",
      "source": [
        "Q14.Why is polymorphism important in OOP?\n",
        "\n",
        "ANS:   Polymorphism is a fundamental concept in Object-Oriented Programming (OOP) that allows objects of different classes to be treated as objects of a common superclass. It enhances flexibility, scalability, and maintainability in your code."
      ],
      "metadata": {
        "id": "JTASjlCBCzf1"
      }
    },
    {
      "cell_type": "markdown",
      "source": [
        "Q15.  What is an abstract class in Python?\n",
        "\n",
        "ANS:  An abstract class in Python is a class that cannot be instantiated directly and is designed to be a blueprint for other classes. It defines abstract methods (methods without implementation) that must be implemented in any subclass."
      ],
      "metadata": {
        "id": "JpgGEpOmDIeZ"
      }
    },
    {
      "cell_type": "markdown",
      "source": [
        "Q16.  What are the advantages of OOP?\n",
        "\n",
        "ANS:  Object-Oriented Programming (OOP) offers several advantages some of them are :\n",
        "\n",
        "1. Modularity and Code Reusability-  \n",
        "OOP promotes code reusability through classes and objects.\n",
        "\n",
        "2. Encapsulation-  \n",
        "OOP allows data to be hidden using private attributes and controlled access through getter and setter methods.\n",
        "\n",
        "3. 3. Abstraction-\n",
        "By defining abstract classes and interfaces, you can hide complex implementation details.\n",
        "\n",
        "4. 4. Polymorphism\n",
        "Polymorphism enables methods to behave differently depending on the object that invokes them.\n",
        "\n",
        "\n"
      ],
      "metadata": {
        "id": "vun9fTmBEEbv"
      }
    },
    {
      "cell_type": "markdown",
      "source": [
        "Q.17  What is the difference between a class variable and an instance variable?\n",
        "\n",
        "ANS:  Class Variable: A variable that is shared across all instances of a class. Defined outside any method, typically at the class level.\n",
        "\n",
        "Instance Variable: A variable that is unique to each object (instance) of the class. Defined inside the __init__() method using self.\n"
      ],
      "metadata": {
        "id": "ZfrQ_TXbJtsh"
      }
    },
    {
      "cell_type": "markdown",
      "source": [
        "Q18. What is multiple inheritance in Python?\n",
        "\n",
        "ANS:   Multiple inheritance in Python is a feature that allows a class to inherit from more than one parent class. This enables the child class to access the attributes and methods of all its parent classes."
      ],
      "metadata": {
        "id": "E_5YnPqkKIU5"
      }
    },
    {
      "cell_type": "markdown",
      "source": [
        "Q19.   Explain the purpose of ‘’__str__’ and ‘__repr__’ ‘ methods in Python?\n",
        "\n",
        "  ANS: In Python, the __str__ and __repr__ methods are special (dunder) methods that define how objects are represented as strings. While both serve similar purposes, they are intended for different audiences and use cases.\n",
        "\n",
        "1. __str__() - For Readable Output\n",
        "\n",
        "    The __str__() method is designed to provide a human-readable and user-friendly string representation of an object.\n",
        "\n",
        "    It’s intended for end-users and is typically used when calling print() or str().\n",
        "\n",
        "\n",
        "2. 2. __repr__() For Debugging and Development\n",
        "\n",
        "    The __repr__() method is designed to provide an unambiguous, developer-friendly representation of an object.\n",
        "\n",
        "    It’s intended for debugging and is called by functions like repr() or when inspecting objects directly in interactive sessions.\n",
        "    "
      ],
      "metadata": {
        "id": "uoWKPDAUKcY7"
      }
    },
    {
      "cell_type": "markdown",
      "source": [
        "Q20. What is the significance of the ‘super()’ function in Python?\n",
        "\n",
        "ANS:  The super() function in Python is used to call methods from a parent class (or superclass) in a child class. It is particularly useful in inheritance scenarios, especially in complex hierarchies or with multiple inheritance."
      ],
      "metadata": {
        "id": "MWpxZmUROotk"
      }
    },
    {
      "cell_type": "markdown",
      "source": [
        "Q21. What is the significance of the __del__ method in Python?\n",
        "\n",
        "ANS:  The __del__ method in Python is a special (dunder) method called the destructor. It is automatically invoked when an object is about to be destroyed (i.e., when it’s no longer referenced)."
      ],
      "metadata": {
        "id": "1qBN47ypOH65"
      }
    },
    {
      "cell_type": "markdown",
      "source": [
        "Q22. What is the difference between @staticmethod and @classmethod in Python?\n",
        "\n",
        "ANS:  A @staticmethod is a method that:\n",
        "\n",
        "1. Belongs to the class but doesn’t access or modify class or instance-specific data.\n",
        "\n",
        "2. Does not require the self or cls parameter.\n",
        "\n",
        "3. Is ideal for utility functions that are logically related to the class but don't depend on class or instance data.\n",
        "\n",
        "A @classmethod is a method that:\n",
        "\n",
        "1. Belongs to the class and has access to class-level data.\n",
        "\n",
        "2. Requires cls as its first parameter (which represents the class itself).\n",
        "\n",
        "3. Can modify class attributes and behavior."
      ],
      "metadata": {
        "id": "sNXqMl2Z8JyE"
      }
    },
    {
      "cell_type": "markdown",
      "source": [
        "Q23.  How does polymorphism work in Python with inheritance?\n",
        "\n",
        "ANS:Polymorphism in Python is commonly achieved using inheritance, where child classes inherit from a common parent class and override or extend its behavior.\n",
        "\n",
        "Key Concepts of Polymorphism with Inheritance\n",
        "1. Method Overriding — A child class provides its own implementation of a method that exists in the parent class.\n",
        "2. Dynamic Method Resolution — Python automatically determines which method to call at runtime based on the object's type (also known as runtime polymorphism).\n",
        "\n",
        "\n",
        "\n"
      ],
      "metadata": {
        "id": "ba6KTsMg8HT_"
      }
    },
    {
      "cell_type": "markdown",
      "source": [
        "Q24. What is method chaining in Python OOP?\n",
        "\n",
        "ANS:  Method chaining is a programming technique in Python that allows you to call multiple methods on the same object in a single statement. It improves code readability and conciseness by linking method calls together."
      ],
      "metadata": {
        "id": "SKqnghzGAxXx"
      }
    },
    {
      "cell_type": "markdown",
      "source": [
        "Q25. What is the purpose of the __call__ method in Python?\n",
        "\n",
        "ANS:In Python, the __call__ method is a special dunder method (short for double underscore method) that allows an instance of a class to be called as if it were a function.\n",
        "\n",
        "In simpler terms, defining __call__() inside a class lets you use the class object as a callable object (like a function).\n",
        "\n"
      ],
      "metadata": {
        "id": "nQRrdFc-CIj2"
      }
    },
    {
      "cell_type": "markdown",
      "source": [
        "**PRACTICAL QUESTIONS**"
      ],
      "metadata": {
        "id": "-tWmYsC9C92N"
      }
    },
    {
      "cell_type": "markdown",
      "source": [
        "Q1. Create a parent class Animal with a method speak() that prints a generic message. Create a child class Dog\n",
        "that overrides the speak() method to print \"Bark!\"."
      ],
      "metadata": {
        "id": "rqZj2hKShTT4"
      }
    },
    {
      "cell_type": "code",
      "source": [
        "class Animal:\n",
        "    def speak(self):\n",
        "        print(\"This animal makes a sound.\")\n",
        "\n",
        "class Dog(Animal):\n",
        "    def speak(self):\n",
        "        print(\"Bark!\")\n",
        "\n",
        "animal = Animal()\n",
        "animal.speak()\n",
        "\n",
        "dog = Dog()\n",
        "dog.speak()"
      ],
      "metadata": {
        "colab": {
          "base_uri": "https://localhost:8080/"
        },
        "id": "VxYKZK42kgY9",
        "outputId": "6844d9c8-60ae-4a9d-ab75-dad8ea02f0bb"
      },
      "execution_count": 1,
      "outputs": [
        {
          "output_type": "stream",
          "name": "stdout",
          "text": [
            "This animal makes a sound.\n",
            "Bark!\n"
          ]
        }
      ]
    },
    {
      "cell_type": "markdown",
      "source": [
        "Q2.Write a program to create an abstract class Shape with a method area(). Derive classes Circle and Rectangle\n",
        "from it and implement the area() method in both.\n",
        "\n",
        "\n"
      ],
      "metadata": {
        "id": "TnfAskuhk5be"
      }
    },
    {
      "cell_type": "code",
      "source": [
        "from abc import ABC, abstractmethod\n",
        "import math\n",
        "\n",
        "# Abstract class\n",
        "class Shape(ABC):\n",
        "    @abstractmethod\n",
        "    def area(self):\n",
        "        pass\n",
        "\n",
        "# Circle class\n",
        "class Circle(Shape):\n",
        "    def __init__(self, radius):\n",
        "        self.radius = radius\n",
        "\n",
        "    def area(self):\n",
        "        return math.pi * self.radius ** 2\n",
        "\n",
        "# Rectangle class\n",
        "class Rectangle(Shape):\n",
        "    def __init__(self, length, width):\n",
        "        self.length = length\n",
        "        self.width = width\n",
        "\n",
        "    def area(self):\n",
        "        return self.length * self.width\n",
        "\n",
        "# Example usage\n",
        "circle = Circle(5)\n",
        "print(f\"Circle area: {circle.area():.2f}\")\n",
        "\n",
        "rectangle = Rectangle(4, 6)\n",
        "print(f\"Rectangle area: {rectangle.area():.2f}\")\n"
      ],
      "metadata": {
        "colab": {
          "base_uri": "https://localhost:8080/"
        },
        "id": "SsdjPtFulJsw",
        "outputId": "7831586d-3d05-48b9-8031-4541f76204eb"
      },
      "execution_count": 2,
      "outputs": [
        {
          "output_type": "stream",
          "name": "stdout",
          "text": [
            "Circle area: 78.54\n",
            "Rectangle area: 24.00\n"
          ]
        }
      ]
    },
    {
      "cell_type": "markdown",
      "source": [
        "Q3. Implement a multi-level inheritance scenario where a class Vehicle has an attribute type. Derive a class Car\n",
        "and further derive a class ElectricCar that adds a battery attribute."
      ],
      "metadata": {
        "id": "c0scZfoCl4UF"
      }
    },
    {
      "cell_type": "code",
      "source": [
        "class Vehicle:\n",
        "    def __init__(self, vehicle_type):\n",
        "        self.vehicle_type = vehicle_type\n",
        "\n",
        "    def show_type(self):\n",
        "        print(f\"Vehicle type: {self.vehicle_type}\")\n",
        "\n",
        "class Car(Vehicle):\n",
        "    def __init__(self, vehicle_type, brand):\n",
        "        super().__init__(vehicle_type)\n",
        "        self.brand = brand\n",
        "\n",
        "    def show_brand(self):\n",
        "        print(f\"Car brand: {self.brand}\")\n",
        "\n",
        "\n",
        "class ElectricCar(Car):\n",
        "    def __init__(self, vehicle_type, brand, battery_capacity):\n",
        "        super().__init__(vehicle_type, brand)\n",
        "        self.battery_capacity = battery_capacity\n",
        "\n",
        "    def show_battery(self):\n",
        "        print(f\"Battery capacity: {self.battery_capacity} kWh\")\n",
        "\n",
        "\n",
        "ecar = ElectricCar(\"Electric\", \"Tesla\", 75)\n",
        "ecar.show_type()\n",
        "ecar.show_brand()\n",
        "ecar.show_battery()\n"
      ],
      "metadata": {
        "colab": {
          "base_uri": "https://localhost:8080/"
        },
        "id": "JsUjS4OlmaoP",
        "outputId": "9f5cab1e-40d6-4527-e511-47032dd85031"
      },
      "execution_count": 3,
      "outputs": [
        {
          "output_type": "stream",
          "name": "stdout",
          "text": [
            "Vehicle type: Electric\n",
            "Car brand: Tesla\n",
            "Battery capacity: 75 kWh\n"
          ]
        }
      ]
    },
    {
      "cell_type": "markdown",
      "source": [
        "Q4. Demonstrate polymorphism by creating a base class Bird with a method fly(). Create two derived classes\n",
        "Sparrow and Penguin that override the fly() method.\n"
      ],
      "metadata": {
        "id": "uMWhN5v9nflM"
      }
    },
    {
      "cell_type": "code",
      "source": [
        "class Bird:\n",
        "    def fly(self):\n",
        "        print(\"Birds can fly.\")\n",
        "\n",
        "class Sparrow(Bird):\n",
        "    def fly(self):\n",
        "        print(\"Sparrows can fly at high speeds.\")\n",
        "\n",
        "class Penguin(Bird):\n",
        "    def fly(self):\n",
        "        print(\"Penguins cannot fly.\")\n",
        "\n",
        "a = Sparrow()\n",
        "a.fly()\n",
        "\n",
        "b = Penguin()\n",
        "b.fly()"
      ],
      "metadata": {
        "colab": {
          "base_uri": "https://localhost:8080/"
        },
        "id": "XqhYzu18noIC",
        "outputId": "3f41a91c-ba3b-4625-9edb-77e438b7bead"
      },
      "execution_count": 5,
      "outputs": [
        {
          "output_type": "stream",
          "name": "stdout",
          "text": [
            "Sparrows can fly at high speeds.\n",
            "Penguins cannot fly.\n"
          ]
        }
      ]
    },
    {
      "cell_type": "markdown",
      "source": [
        "Q5.5. Write a program to demonstrate encapsulation by creating a class BankAccount with private attributes\n",
        "balance and methods to deposit, withdraw, and check balance."
      ],
      "metadata": {
        "id": "Q7PHA27woW0G"
      }
    },
    {
      "cell_type": "code",
      "source": [
        "class BankAccount:\n",
        "    def __init__(self, initial_balance=0):\n",
        "        self._balance = initial_balance\n",
        "\n",
        "    def deposit(self, amount):\n",
        "        if amount > 0:\n",
        "            self._balance += amount\n",
        "\n",
        "    def withdraw(self, amount):\n",
        "        if 0 < amount <= self._balance:\n",
        "            self._balance -= amount\n",
        "\n",
        "    def check_balance(self):\n",
        "        return self._balance\n",
        "a = BankAccount(1000)\n",
        "a.deposit(500)\n",
        "a.withdraw(200)\n",
        "print(f\"Current balance: ${a.check_balance()}\")\n",
        "\n"
      ],
      "metadata": {
        "colab": {
          "base_uri": "https://localhost:8080/"
        },
        "id": "4l1lbalvoePD",
        "outputId": "ea8ef41e-a060-4921-afce-c161cabd1ecb"
      },
      "execution_count": 10,
      "outputs": [
        {
          "output_type": "stream",
          "name": "stdout",
          "text": [
            "Current balance: $1300\n"
          ]
        }
      ]
    },
    {
      "cell_type": "markdown",
      "source": [
        "Q6. Demonstrate runtime polymorphism using a method play() in a base class Instrument. Derive classes Guitar\n",
        "and Piano that implement their own version of play()."
      ],
      "metadata": {
        "id": "agB3f41qp-Fk"
      }
    },
    {
      "cell_type": "code",
      "source": [
        "class Instrument:\n",
        "    def play(self):\n",
        "        print(\"Playing an instrument.\")\n",
        "\n",
        "class Guitar(Instrument):\n",
        "    def play(self):\n",
        "        print(\"Strumming the guitar.\")\n",
        "\n",
        "class Piano(Instrument):\n",
        "    def play(self):\n",
        "        print(\"Playing the piano.\")\n",
        "\n",
        "# Runtime polymorphism demonstration\n",
        "def perform(instrument):\n",
        "    instrument.play()\n",
        "\n",
        "# Example usage\n",
        "guitar = Guitar()\n",
        "piano = Piano()\n",
        "\n",
        "perform(guitar)\n",
        "perform(piano)\n"
      ],
      "metadata": {
        "colab": {
          "base_uri": "https://localhost:8080/"
        },
        "id": "F-ofL2bBqDIB",
        "outputId": "7963db8f-d530-4857-c3f6-64dae002a2ea"
      },
      "execution_count": 11,
      "outputs": [
        {
          "output_type": "stream",
          "name": "stdout",
          "text": [
            "Strumming the guitar.\n",
            "Playing the piano.\n"
          ]
        }
      ]
    },
    {
      "cell_type": "markdown",
      "source": [
        "Q7. Create a class MathOperations with a class method add_numbers() to add two numbers and a static\n",
        "method subtract_numbers() to subtract two numbers."
      ],
      "metadata": {
        "id": "cecyltVprI83"
      }
    },
    {
      "cell_type": "code",
      "source": [
        "class MathOperations:\n",
        "    @classmethod\n",
        "    def add_numbers(cls, a, b):\n",
        "        return a + b\n",
        "\n",
        "    @staticmethod\n",
        "    def subtract_numbers(a, b):\n",
        "        return a - b\n",
        "sum = MathOperations.add_numbers(5, 3)\n",
        "print(f\"Sum: {sum}\")\n",
        "\n",
        "difference = MathOperations.subtract_numbers(10, 4)\n",
        "print(f\"Difference: {difference}\")\n",
        ""
      ],
      "metadata": {
        "colab": {
          "base_uri": "https://localhost:8080/"
        },
        "id": "gAkF_CtDrSKQ",
        "outputId": "a9902dd9-1d93-4a61-dca7-cf8d546b9b6c"
      },
      "execution_count": 13,
      "outputs": [
        {
          "output_type": "stream",
          "name": "stdout",
          "text": [
            "Sum: 8\n",
            "Difference: 6\n"
          ]
        }
      ]
    },
    {
      "cell_type": "markdown",
      "source": [
        "8. Implement a class Person with a class method to count the total number of persons created."
      ],
      "metadata": {
        "id": "_K1TFea_sWx3"
      }
    },
    {
      "cell_type": "code",
      "source": [
        "class Person:\n",
        "    count = 0\n",
        "\n",
        "    def __init__(self, name):\n",
        "        self.name = name\n",
        "        Person.count += 1\n",
        "\n",
        "    @classmethod\n",
        "    def total_persons(cls):\n",
        "        return cls.count\n",
        "\n",
        "p1 = Person(\"Alice\")\n",
        "p2 = Person(\"Bob\")\n",
        "print(f\"Total persons created: {Person.total_persons()}\")\n"
      ],
      "metadata": {
        "colab": {
          "base_uri": "https://localhost:8080/"
        },
        "id": "BmmvGACnsf8M",
        "outputId": "3084d927-4d27-4bf0-83d3-6187491fdb00"
      },
      "execution_count": 14,
      "outputs": [
        {
          "output_type": "stream",
          "name": "stdout",
          "text": [
            "Total persons created: 2\n"
          ]
        }
      ]
    },
    {
      "cell_type": "markdown",
      "source": [
        "9. Write a class Fraction with attributes numerator and denominator. Override the str method to display the\n",
        "fraction as \"numerator/denominator\"."
      ],
      "metadata": {
        "id": "VFNbuM_zs2DG"
      }
    },
    {
      "cell_type": "code",
      "source": [
        "class Fraction:\n",
        "    def __init__(self, numerator, denominator):\n",
        "        self.numerator = numerator\n",
        "        self.denominator = denominator\n",
        "\n",
        "    def __str__(self):\n",
        "        return f\"{self.numerator}/{self.denominator}\"\n",
        "\n",
        "f1 = Fraction(3, 4)\n",
        "print(f\"Fraction: {f1}\")"
      ],
      "metadata": {
        "colab": {
          "base_uri": "https://localhost:8080/"
        },
        "id": "KQ5IpTTyuYja",
        "outputId": "d424d5fb-622d-4143-acd8-bfef7bd69d6e"
      },
      "execution_count": 16,
      "outputs": [
        {
          "output_type": "stream",
          "name": "stdout",
          "text": [
            "Fraction: 3/4\n"
          ]
        }
      ]
    },
    {
      "cell_type": "markdown",
      "source": [
        "Q10.Demonstrate operator overloading by creating a class Vector and overriding the add method to add two vectors"
      ],
      "metadata": {
        "id": "usEemuIutSk5"
      }
    },
    {
      "cell_type": "code",
      "source": [
        "class vector:\n",
        "    def __init__(self, x, y):\n",
        "        self.x = x\n",
        "        self.y = y\n",
        "\n",
        "    def __add__(self, other):\n",
        "        return vector(self.x + other.x, self.y + other.y)\n",
        "\n",
        "    def __str__(self):\n",
        "        return f\"({self.x}, {self.y})\"\n",
        "\n",
        "v1 = vector(1, 2)\n",
        "v2 = vector(3, 4)\n",
        "v3 = v1 + v2\n",
        "print(v3)"
      ],
      "metadata": {
        "colab": {
          "base_uri": "https://localhost:8080/"
        },
        "id": "TOmXV8EpuuOY",
        "outputId": "10f311de-a1e9-4b15-8e7e-61a4d0e04d2c"
      },
      "execution_count": 19,
      "outputs": [
        {
          "output_type": "stream",
          "name": "stdout",
          "text": [
            "(4, 6)\n"
          ]
        }
      ]
    },
    {
      "cell_type": "markdown",
      "source": [
        "Q11.Create a class Person with attributes name and age. Add a method greet() that prints \"Hello, my name is\n",
        "{name} and I am {age} years old."
      ],
      "metadata": {
        "id": "Zgrn2XccvSPV"
      }
    },
    {
      "cell_type": "code",
      "source": [
        "class person:\n",
        "  def __init__(self,name,age):\n",
        "    self.name = name\n",
        "    self.age = age\n",
        "  def greet(self):\n",
        "    print(f\"Hello, my name is {self.name} and I am {self.age} years old.\")\n",
        "p1 = person(\"Alice\", 25)\n",
        "p1.greet()"
      ],
      "metadata": {
        "colab": {
          "base_uri": "https://localhost:8080/"
        },
        "id": "IcvjrT29vpgR",
        "outputId": "8a3e6411-8638-41e4-ad04-ac884e8e32e5"
      },
      "execution_count": 21,
      "outputs": [
        {
          "output_type": "stream",
          "name": "stdout",
          "text": [
            "Hello, my name is Alice and I am 25 years old.\n"
          ]
        }
      ]
    },
    {
      "cell_type": "markdown",
      "source": [
        "Q12.Implement a class Student with attributes name and grades. Create a method average_grade() to compute\n",
        "the average of the grades"
      ],
      "metadata": {
        "id": "wQe1WBPpw64A"
      }
    },
    {
      "cell_type": "code",
      "source": [
        "class Student:\n",
        "    def __init__(self, name, grades):\n",
        "        self.name = name\n",
        "        self.grades = grades\n",
        "\n",
        "    def average_grade(self):\n",
        "        if not self.grades:\n",
        "            return 0\n",
        "        # Use built-in sum function, avoid using 'sum' as a variable name\n",
        "        return builtins.sum(self.grades) / len(self.grades)\n",
        "\n",
        "import builtins\n",
        "\n",
        "student1 = Student(\"Alice\", [85, 90, 78, 92])\n",
        "average = student1.average_grade()\n",
        "print(f\"Average grade for {student1.name}: {average}\")"
      ],
      "metadata": {
        "colab": {
          "base_uri": "https://localhost:8080/"
        },
        "id": "gFvO6hpryYzW",
        "outputId": "ea19d40f-23e1-489c-80c8-77ab68755c1a"
      },
      "execution_count": 30,
      "outputs": [
        {
          "output_type": "stream",
          "name": "stdout",
          "text": [
            "Average grade for Alice: 86.25\n"
          ]
        }
      ]
    },
    {
      "cell_type": "markdown",
      "source": [
        "13. Create a class Rectangle with methods set_dimensions() to set the dimensions and area() to calculate the\n",
        "area."
      ],
      "metadata": {
        "id": "r0u0eus9ykM8"
      }
    },
    {
      "cell_type": "code",
      "source": [
        "class Rectangle:\n",
        "    def __init__(self):\n",
        "        self.length = 0\n",
        "        self.width = 0\n",
        "\n",
        "    def set_dimensions(self, length, width):\n",
        "        self.length = length\n",
        "        self.width = width\n",
        "\n",
        "    def area(self):\n",
        "        return self.length * se\n",
        "rect = Rectangle()\n",
        "rect.set_dimensions(5, 10)\n",
        "print(f\"Rectangle area: {rect.area()}\")\n"
      ],
      "metadata": {
        "colab": {
          "base_uri": "https://localhost:8080/"
        },
        "id": "t0RdGx6YOaFO",
        "outputId": "f1d5dd0a-9d0b-4fc2-c0d2-347b4fe59d34"
      },
      "execution_count": 1,
      "outputs": [
        {
          "output_type": "stream",
          "name": "stdout",
          "text": [
            "Rectangle area: 50\n"
          ]
        }
      ]
    },
    {
      "cell_type": "markdown",
      "source": [
        "Q.14. Create a class Employee with a method calculate_salary() that computes the salary based on hours worked\n",
        "and hourly rate. Create a derived class Manager that adds a bonus to the salary."
      ],
      "metadata": {
        "id": "mgx-jFEfOjgW"
      }
    },
    {
      "cell_type": "code",
      "source": [
        "class Employee:\n",
        "    def __init__(self, name, hours_worked, hourly_rate):\n",
        "        self.name = name\n",
        "        self.hours_worked = hours_worked\n",
        "        self.hourly_rate = hourly_rate\n",
        "\n",
        "    def calculate_salary(self):\n",
        "        return self.hours_worked * self.hourly_rate\n",
        "\n",
        "\n",
        "class Manager(Employee):\n",
        "    def __init__(self, name, hours_worked, hourly_rate, bonus):\n",
        "        super().__init__(name, hours_worked, hourly_rate)\n",
        "        self.bonus = bonus\n",
        "\n",
        "    def calculate_salary(self):\n",
        "        return super().calculate_salary() + self.bonus\n",
        "\n",
        "\n",
        "emp = Employee(\"Sam\", 40, 20)\n",
        "print(f\"{emp.name}'s salary: ${emp.calculate_salary()}\")\n",
        "\n",
        "mgr = Manager(\"joydeep\", 40, 30, 500)\n",
        "print(f\"{mgr.name}'s salary: ${mgr.calculate_salary()}\")"
      ],
      "metadata": {
        "colab": {
          "base_uri": "https://localhost:8080/"
        },
        "id": "LadY_U7nOtmy",
        "outputId": "0bd547f0-f5eb-4299-dd19-f1ca7e2331b0"
      },
      "execution_count": 3,
      "outputs": [
        {
          "output_type": "stream",
          "name": "stdout",
          "text": [
            "Sam's salary: $800\n",
            "joydeep's salary: $1700\n"
          ]
        }
      ]
    },
    {
      "cell_type": "markdown",
      "source": [
        "Q15. Create a class Product with attributes name, price, and quantity. Implement a method total_price() that\n",
        "calculates the total price of the product."
      ],
      "metadata": {
        "id": "cGtkVr7HPciE"
      }
    },
    {
      "cell_type": "code",
      "source": [
        "class Product:\n",
        "    def __init__(self, name, price, quantity):\n",
        "        self.name = name\n",
        "        self.price = price\n",
        "        self.quantity = quantity\n",
        "\n",
        "    def total_price(self):\n",
        "        return self.price * self.quantity\n",
        "\n",
        "\n",
        "product = Product(\"Laptop\", 50000, 3)\n",
        "print(f\"Total price of {product.name}: RS{product.total_price()}\")\n"
      ],
      "metadata": {
        "colab": {
          "base_uri": "https://localhost:8080/"
        },
        "id": "H_ihVxPxQnd1",
        "outputId": "23be719d-7e99-44a4-d6ff-d31fbaf6cc1f"
      },
      "execution_count": 6,
      "outputs": [
        {
          "output_type": "stream",
          "name": "stdout",
          "text": [
            "Total price of Laptop: RS150000\n"
          ]
        }
      ]
    },
    {
      "cell_type": "markdown",
      "source": [
        "Q16.Create a class Animal with an abstract method sound(). Create two derived classes Cow and Sheep that\n",
        "implement the sound() method."
      ],
      "metadata": {
        "id": "hrdK4PKXQ1ej"
      }
    },
    {
      "cell_type": "code",
      "source": [
        "from abc import ABC, abstractmethod\n",
        "\n",
        "class Animal(ABC):\n",
        "    @abstractmethod\n",
        "    def sound(self):\n",
        "        pass\n",
        "\n",
        "class Cow(Animal):\n",
        "    def sound(self):\n",
        "        print(\"Moo\")\n",
        "\n",
        "class Sheep(Animal):\n",
        "    def sound(self):\n",
        "        print(\"Baa\")\n",
        "\n",
        "cow = Cow()\n",
        "sheep = Sheep()\n",
        "\n",
        "cow.sound()\n",
        "sheep.sound()"
      ],
      "metadata": {
        "colab": {
          "base_uri": "https://localhost:8080/"
        },
        "id": "02Dvq7trREnB",
        "outputId": "1c4a8015-c0e9-42a7-d8ce-6b8039f04740"
      },
      "execution_count": 8,
      "outputs": [
        {
          "output_type": "stream",
          "name": "stdout",
          "text": [
            "Moo\n",
            "Baa\n"
          ]
        }
      ]
    },
    {
      "cell_type": "markdown",
      "source": [
        "Q17. Create a class Book with attributes title, author, and year_published. Add a method get_book_info() that\n",
        "returns a formatted string with the book's details"
      ],
      "metadata": {
        "id": "sOvGoU1TRS7r"
      }
    },
    {
      "cell_type": "code",
      "source": [
        "class Book:\n",
        "    def __init__(self, title, author, year_published):\n",
        "        self.title = title\n",
        "        self.author = author\n",
        "        self.year_published = year_published\n",
        "\n",
        "    def get_book_info(self):\n",
        "        return f\"'{self.title}' by {self.author}, published in {self.year_published}\"\n",
        "\n",
        "book = Book(\"1984\", \"George Orwell\", 1949)\n",
        "print(book.get_book_info())"
      ],
      "metadata": {
        "colab": {
          "base_uri": "https://localhost:8080/"
        },
        "id": "UElpUIHKRYEC",
        "outputId": "e2ce2424-f56d-42ec-ffc6-a0b64fdd58e1"
      },
      "execution_count": 9,
      "outputs": [
        {
          "output_type": "stream",
          "name": "stdout",
          "text": [
            "'1984' by George Orwell, published in 1949\n"
          ]
        }
      ]
    },
    {
      "cell_type": "markdown",
      "source": [
        "Q18. Create a class House with attributes address and price. Create a derived class Mansion that adds an\n",
        "attribute number_of_rooms."
      ],
      "metadata": {
        "id": "pcumedMjRq-C"
      }
    },
    {
      "cell_type": "code",
      "source": [
        "class House:\n",
        "    def __init__(self, address, price):\n",
        "        self.address = address\n",
        "class House:\n",
        "    def __init__(self, address, price):\n",
        "        self.address = address\n",
        "        self.price = price\n",
        "\n",
        "class Mansion(House):\n",
        "    def __init__(self, address, price, number_of_rooms):\n",
        "        super().__init__(address, price)\n",
        "        self.number_of_rooms = number_of_rooms\n",
        "\n",
        "\n",
        "\n",
        "mansion = Mansion(\"123 Main St\", 250000, 8)\n",
        "print(f\"Address: {mansion.address}\")\n",
        "print(f\"Price: ${mansion.price}\")\n",
        "print(f\"Number of rooms: {mansion.number_of_rooms}\")"
      ],
      "metadata": {
        "colab": {
          "base_uri": "https://localhost:8080/"
        },
        "id": "ePUUNlPgR0N8",
        "outputId": "9aa883d6-0304-48df-d5b4-96521c18aa6f"
      },
      "execution_count": 17,
      "outputs": [
        {
          "output_type": "stream",
          "name": "stdout",
          "text": [
            "Address: 123 Main St\n",
            "Price: $250000\n",
            "Number of rooms: 8\n"
          ]
        }
      ]
    },
    {
      "cell_type": "markdown",
      "source": [],
      "metadata": {
        "id": "tuBiEbqHRzu9"
      }
    }
  ]
}